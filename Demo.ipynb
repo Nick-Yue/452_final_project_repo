{
 "cells": [
  {
   "cell_type": "code",
   "execution_count": 1,
   "metadata": {},
   "outputs": [
    {
     "name": "stdout",
     "output_type": "stream",
     "text": [
      "[[1, 0, 1, 1, 0], [1, 0, 1, 1, 0], [0, 1, 1, 1, 0], [0, 0, 0, 1, 1], [1, 1, 1, 1, 0]]\n"
     ]
    }
   ],
   "source": [
    "import random\n",
    "def random_state(width, height):\n",
    "    # the board is a list of lists\n",
    "    column = []\n",
    "    for h in range(height):\n",
    "        row = []\n",
    "        for w in range(width):\n",
    "            #use the random function to generate random number from 0 to 1.0\n",
    "            random_number = random.random()\n",
    "            # 0 for dead, 1 for alive\n",
    "            if random_number >= 0.5:\n",
    "                cell_state = 0\n",
    "            else:\n",
    "                cell_state = 1\n",
    "            row.append(cell_state)\n",
    "        column.append(row)\n",
    "    return column\n",
    "\n",
    "print(random_state(5,5))"
   ]
  },
  {
   "cell_type": "code",
   "execution_count": 2,
   "metadata": {},
   "outputs": [
    {
     "name": "stdout",
     "output_type": "stream",
     "text": [
      "░█░░█\n",
      "██░██\n",
      "███░█\n",
      "░░█░█\n",
      "░█░░░\n",
      "\n"
     ]
    }
   ],
   "source": [
    "def render(state):\n",
    "    board = ''\n",
    "    for y in state:\n",
    "        row = ''\n",
    "        for x in y:\n",
    "            status = ''\n",
    "            if x == 0:\n",
    "                status = u\"\\u2591\"\n",
    "            else:\n",
    "                status = u\"\\u2588\"\n",
    "            row =row + status\n",
    "        board = board + row +'\\n'\n",
    "    print (board)\n",
    "\n",
    "render(random_state(5,5))"
   ]
  },
  {
   "cell_type": "code",
   "execution_count": 4,
   "metadata": {},
   "outputs": [
    {
     "name": "stdout",
     "output_type": "stream",
     "text": [
      "[[1, 1, 1, 0, 1], [1, 0, 1, 1, 0], [0, 0, 0, 0, 1], [1, 1, 0, 0, 1], [1, 1, 0, 0, 1]]\n",
      "[[0, 0, 1, 0, 0], [0, 0, 0, 1, 0], [0, 0, 1, 0, 1], [1, 0, 0, 1, 1], [1, 0, 0, 0, 0]]\n"
     ]
    }
   ],
   "source": [
    "# define a function that can return the width of the state.\n",
    "def state_width(statename):\n",
    "    return len(statename)\n",
    "\n",
    "#define a function that can return the height of the state.\n",
    "def state_height(statename):\n",
    "    return len(statename[0])\n",
    "\n",
    "#define a function that can calculate the next value of a cell in a state.\n",
    "def next_cell_value(cell_coords, state):\n",
    "    width = state_width(state) #get the width of the state.\n",
    "    height = state_height(state) # get the height of the state.\n",
    "    x = cell_coords[0]\n",
    "    y = cell_coords[1] # cell_coords is a (x, y) tuple pair of a cell. \n",
    "    num_of_live_neighbors = 0 # number of live neighbors of each cell.\n",
    "    #iterate over the neighbor cells.\n",
    "    for x1 in range(x-1,(x+1)+1):\n",
    "        if x1-1 <0 or x1>=width: continue # make sure we dont go off edge cells.\n",
    "        for y1 in range(y-1, (y+1)+1):\n",
    "            if y1-1<0 or y1>=height:continue\n",
    "            if x1==x and y1==y: continue # make sure we dont go off the cell itself.\n",
    "            if state[x1][y1] ==1:\n",
    "                num_of_live_neighbors +=1\n",
    "    if state[x][y] ==1:\n",
    "        if num_of_live_neighbors <=1:\n",
    "            return int(0)\n",
    "        elif num_of_live_neighbors <=3:\n",
    "            return int(1)\n",
    "        else:\n",
    "            return int(0)\n",
    "    else:\n",
    "        if num_of_live_neighbors ==3:\n",
    "            return int(1)\n",
    "        else:\n",
    "            return int(0)\n",
    "\n",
    "# define a function that can create a new board that stores all the new values of cells.\n",
    "def next_board_state(initial_state):\n",
    "    width = state_width(initial_state)\n",
    "    height = state_height(initial_state)\n",
    "    next_state = random_state(width, height)\n",
    "    for x in range(0,width):\n",
    "        for y in range(0,height):\n",
    "            next_state[x][y] = next_cell_value((x,y),initial_state)\n",
    "    return next_state \n",
    "\n",
    "initial_state = random_state(5,5)\n",
    "next_state = next_board_state(initial_state)\n",
    "print(initial_state)\n",
    "print(next_state)"
   ]
  },
  {
   "cell_type": "code",
   "execution_count": null,
   "metadata": {},
   "outputs": [],
   "source": []
  }
 ],
 "metadata": {
  "kernelspec": {
   "display_name": "Python 3",
   "language": "python",
   "name": "python3"
  },
  "language_info": {
   "codemirror_mode": {
    "name": "ipython",
    "version": 3
   },
   "file_extension": ".py",
   "mimetype": "text/x-python",
   "name": "python",
   "nbconvert_exporter": "python",
   "pygments_lexer": "ipython3",
   "version": "3.7.3"
  }
 },
 "nbformat": 4,
 "nbformat_minor": 2
}
