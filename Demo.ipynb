{
 "cells": [
  {
   "cell_type": "code",
   "execution_count": 1,
   "metadata": {},
   "outputs": [
    {
     "name": "stdout",
     "output_type": "stream",
     "text": [
      "[[1, 0, 1, 1, 0], [1, 0, 1, 1, 0], [0, 1, 1, 1, 0], [0, 0, 0, 1, 1], [1, 1, 1, 1, 0]]\n"
     ]
    }
   ],
   "source": [
    "import random\n",
    "def random_state(width, height):\n",
    "    # the board is a list of lists\n",
    "    column = []\n",
    "    for h in range(height):\n",
    "        row = []\n",
    "        for w in range(width):\n",
    "            #use the random function to generate random number from 0 to 1.0\n",
    "            random_number = random.random()\n",
    "            # 0 for dead, 1 for alive\n",
    "            if random_number >= 0.5:\n",
    "                cell_state = 0\n",
    "            else:\n",
    "                cell_state = 1\n",
    "            row.append(cell_state)\n",
    "        column.append(row)\n",
    "    return column\n",
    "\n",
    "print(random_state(5,5))"
   ]
  },
  {
   "cell_type": "code",
   "execution_count": 2,
   "metadata": {},
   "outputs": [
    {
     "name": "stdout",
     "output_type": "stream",
     "text": [
      "░█░░█\n",
      "██░██\n",
      "███░█\n",
      "░░█░█\n",
      "░█░░░\n",
      "\n"
     ]
    }
   ],
   "source": [
    "def render(state):\n",
    "    board = ''\n",
    "    for y in state:\n",
    "        row = ''\n",
    "        for x in y:\n",
    "            status = ''\n",
    "            if x == 0:\n",
    "                status = u\"\\u2591\"\n",
    "            else:\n",
    "                status = u\"\\u2588\"\n",
    "            row =row + status\n",
    "        board = board + row +'\\n'\n",
    "    print (board)\n",
    "\n",
    "render(random_state(5,5))"
   ]
  },
  {
   "cell_type": "code",
   "execution_count": null,
   "metadata": {},
   "outputs": [],
   "source": []
  }
 ],
 "metadata": {
  "kernelspec": {
   "display_name": "Python 3",
   "language": "python",
   "name": "python3"
  },
  "language_info": {
   "codemirror_mode": {
    "name": "ipython",
    "version": 3
   },
   "file_extension": ".py",
   "mimetype": "text/x-python",
   "name": "python",
   "nbconvert_exporter": "python",
   "pygments_lexer": "ipython3",
   "version": "3.7.3"
  }
 },
 "nbformat": 4,
 "nbformat_minor": 2
}
