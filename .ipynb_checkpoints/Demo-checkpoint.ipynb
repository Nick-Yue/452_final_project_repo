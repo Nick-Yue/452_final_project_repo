{
 "cells": [
  {
   "cell_type": "code",
   "execution_count": 1,
   "metadata": {},
   "outputs": [
    {
     "name": "stdout",
     "output_type": "stream",
     "text": [
      "[[1, 0, 0, 1, 1], [1, 0, 0, 1, 0], [0, 1, 1, 1, 1], [1, 1, 0, 0, 1], [0, 1, 0, 0, 0]]\n"
     ]
    }
   ],
   "source": [
    "import random\n",
    "def dead_state(width, height):\n",
    "    # the board is a list of lists\n",
    "    column = []\n",
    "    for h in range(height):\n",
    "        row = []\n",
    "        for w in range(width):\n",
    "            #use the random function to generate random number from 0 to 1.0\n",
    "            random_number = random.random()\n",
    "            # 0 for dead, 1 for alive\n",
    "            if random_number >= 0.5:\n",
    "                cell_state = 0\n",
    "            else:\n",
    "                cell_state = 1\n",
    "            row.append(cell_state)\n",
    "        column.append(row)\n",
    "    return column\n",
    "\n",
    "print(dead_state(5,5))"
   ]
  },
  {
   "cell_type": "code",
   "execution_count": null,
   "metadata": {},
   "outputs": [],
   "source": []
  }
 ],
 "metadata": {
  "kernelspec": {
   "display_name": "Python 3",
   "language": "python",
   "name": "python3"
  },
  "language_info": {
   "codemirror_mode": {
    "name": "ipython",
    "version": 3
   },
   "file_extension": ".py",
   "mimetype": "text/x-python",
   "name": "python",
   "nbconvert_exporter": "python",
   "pygments_lexer": "ipython3",
   "version": "3.7.3"
  }
 },
 "nbformat": 4,
 "nbformat_minor": 2
}
